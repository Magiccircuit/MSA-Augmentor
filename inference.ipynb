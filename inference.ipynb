{
 "cells": [
  {
   "cell_type": "code",
   "execution_count": 1,
   "metadata": {},
   "outputs": [
    {
     "name": "stderr",
     "output_type": "stream",
     "text": [
      "/home/mila/l/le.zhang/.conda/envs/openflamingo/lib/python3.9/site-packages/tqdm/auto.py:21: TqdmWarning: IProgress not found. Please update jupyter and ipywidgets. See https://ipywidgets.readthedocs.io/en/stable/user_install.html\n",
      "  from .autonotebook import tqdm as notebook_tqdm\n"
     ]
    }
   ],
   "source": [
    "\n",
    "import sys\n",
    "from transformers import T5Tokenizer, T5Config\n",
    "from model.msa_augmentor import MSAT5\n",
    "from typing import Any, Callable, Dict, Iterable, List, Optional, Tuple, Union\n",
    "from torch.utils.data import DataLoader, Dataset\n",
    "from data.utils_inference import DataCollatorForMSA\n",
    "from data.iteration import fetch_best_generation\n",
    "import torch\n",
    "from Bio import SeqIO\n",
    "import itertools\n",
    "import string\n",
    "import glob\n",
    "import torch\n",
    "from tqdm import tqdm\n",
    "import os \n",
    "import logging\n",
    "import datetime\n",
    "import torch.nn.functional as F\n",
    "import argparse"
   ]
  },
  {
   "cell_type": "code",
   "execution_count": 2,
   "metadata": {},
   "outputs": [],
   "source": [
    "config=T5Config.from_pretrained('./config/')\n",
    "tokenizer=T5Tokenizer.from_pretrained('./config/')"
   ]
  },
  {
   "cell_type": "code",
   "execution_count": 6,
   "metadata": {},
   "outputs": [],
   "source": [
    "model=MSAT5.from_pretrained('.r/checkpoints/msat5-base/checkpoint-740000')"
   ]
  },
  {
   "cell_type": "code",
   "execution_count": 3,
   "metadata": {},
   "outputs": [],
   "source": [
    "class MSADataSet(Dataset):\n",
    "    def __init__(self,data_dir=None,data_path_list=None,only_poor_msa=None):\n",
    "        \"\"\"\n",
    "        data_dir: read all .a3m file in this dir\n",
    "        data_path_list: read all .a3m file in this list\n",
    "        \"\"\"\n",
    "        self.setup_traslation()\n",
    "        if data_path_list is None:\n",
    "            data_path_list=glob.glob(data_dir+'/*.a3m')\n",
    "\n",
    "        self.msa_data={msa_file_path.split(\"/\")[-1].split(\".\")[0]:self.read_msa(msa_file_path,9999) for msa_file_path in data_path_list}\n",
    "        assert all([self.check_same_len(msa) for msa in self.msa_data.values()]),\"all sequence in a msa should have the same length\"\n",
    "        if only_poor_msa:\n",
    "            self.msa_data={k:v for k,v in self.msa_data.items() if len(v)<only_poor_msa}\n",
    "        for k,v in self.msa_data.items():\n",
    "            print(f\"{k}: unique seq num:{len(set([x[1] for x in v]))} | total seq num:{len(v)}\")\n",
    "       \n",
    "    def __getitem__(self, index):\n",
    "        # if self.is_generation:\n",
    "        #     return {\"all\":self.msa_data[index]}\n",
    "        # return {\"src\":self.src[index],\"tgt\":self.tgt[index],\"all\":self.msa_data[index]}\n",
    "        if index in self.msa_data:\n",
    "            return {'msa_name':index,'msa':self.msa_data[index]}\n",
    "        else:\n",
    "            key=list(self.msa_data.keys())[index]\n",
    "            return {'msa_name':key,'msa':self.msa_data[key]}\n",
    "    def __len__(self):\n",
    "        return len(self.msa_data)\n",
    "    def setup_traslation(self):\n",
    "        deletekeys = dict.fromkeys(string.ascii_lowercase)\n",
    "        deletekeys[\".\"] = None\n",
    "        deletekeys[\"*\"] = None\n",
    "        self.translation = str.maketrans(deletekeys)\n",
    "    def remove_insertions(self,sequence) :\n",
    "        \"\"\" Removes any insertions into the sequence. Needed to load aligned sequences in an MSA. \"\"\"\n",
    "        return sequence.translate(self.translation)\n",
    "    def read_msa(self,filename, nseq) :\n",
    "        \"\"\" Reads the first nseq sequences from an MSA file, automatically removes insertions.\"\"\"\n",
    "        \n",
    "        return [(record.description, self.remove_insertions(str(record.seq)))\n",
    "                    for record in itertools.islice(SeqIO.parse(filename, \"fasta\"), nseq)]\n",
    "    def check_same_len(self,msa:List[Tuple[str,str]]):\n",
    "        #check if all sequence in a msa has the same length\n",
    "        l=set([len(x[1]) for x in msa])\n",
    "        return len(l)==1"
   ]
  },
  {
   "cell_type": "code",
   "execution_count": 11,
   "metadata": {},
   "outputs": [
    {
     "name": "stdout",
     "output_type": "stream",
     "text": [
      "T1113: unique seq num:10 | total seq num:13\n",
      "T1119: unique seq num:2 | total seq num:5\n",
      "T1122: unique seq num:1 | total seq num:3\n",
      "T1125: unique seq num:15 | total seq num:18\n",
      "T1129s2: unique seq num:16 | total seq num:18\n",
      "T1130: unique seq num:1 | total seq num:2\n",
      "T1131: unique seq num:1 | total seq num:2\n",
      "T1178: unique seq num:15 | total seq num:16\n",
      "T1194: unique seq num:14 | total seq num:16\n",
      "9\n"
     ]
    }
   ],
   "source": [
    "dataset=MSADataSet(data_dir='./dataset/casp15/cfdb/',only_poor_msa=20)\n",
    "print(len(dataset))"
   ]
  },
  {
   "cell_type": "code",
   "execution_count": 108,
   "metadata": {},
   "outputs": [
    {
     "name": "stdout",
     "output_type": "stream",
     "text": [
      "T1113\n",
      "[('9', 'MTAVNYPFVDTMDKFDKITKGLIFEHQAEGESETMISHELSILDNDGVVHSLHFSQITSLIDTITGKHPSLELPPQLFLITQYLLEDLKEVGEKGFVITEYFIDVLPTGNKAIFRGTLAHKSTVDGHPDFDPSSTISKKEFEFSLNQFSILQQIALSHCIANLHEECAGFRGTFDVEYTFHWTPFAFNVKFSE'), ('A0A4D6BFJ2\\t348\\t1.00\\t6.892E-106\\t0\\t192\\t193\\t0\\t192\\t193', 'MTAVNYPFVDTMDKFDKITKGLIFEHQAEGESETMISHELSILDNDGVVHSLHFSQITSLIDTITGKHPSLELPPQLFLITQYLLEDLKEVGEKGFVITEYFIDVLPTGNKAIFRGTLAHKSTVDGHPDFDPSSTISKKEFEFSLNQFSILQQIALSHCIANLHEECAGFRGTFDVEYTFHWTPFAFNVKFSE'), ('B3FJX8\\t222\\t0.306\\t3.338E-62\\t0\\t188\\t193\\t0\\t172\\t179', 'MTLIAKPAVPDTEVLNHIGRDLLLKD--EDGSFKLQRH-LKILTEEGLVHQVSFAQVDGLLNILDSTRETPPCSPLQYLITHYDLKDLVELGKDGWLVPEYQVVVMHSSKTVRFEGKLTRVGSID-------------KEFTFALGGFDFIQQLSLARCIASLGKEFEQVIGTFDCTYVFKTGPDGISV----'), ('A0A7S6RAB0\\t217\\t0.315\\t2.007E-60\\t33\\t177\\t193\\t29\\t170\\t194', '---------------------------------TGLRPSLNITTNDGVTRNVTFDQLENFIKVIKATHDTQTVGPLQWCIYRYA----PNLVKARYIATSWKITVDHVKKTLNFQGTLNHEGTVIDHPNYDPDITARELMFDETITDFSRFEQIALSGNIANFKEEFKMMKYSFDFSY---------------'), ('F8SJN3\\t176\\t0.373\\t3.357E-46\\t0\\t179\\t193\\t0\\t177\\t197', 'MTDVAYPYLETSTLFDNIVKGQIL----EPDAESPQSHVLKITDAAGIGHEVTFFQLSILLAILQGKHELTDNQPHQYLVNQWVLTDLHNIYDEGYVMTSHRVIVDHVEEVATFTGTLVHQKTIRSHPNWQEGFTAPVKEFEFNLENFGIFHQIVFSQCIANLTPELDWVARTFGHSYIF-------------'), ('A0A1Y0ST44\\t149\\t0.267\\t4.748E-37\\t0\\t189\\t193\\t0\\t192\\t197', 'MTDITIPGIDNA-KLTKLARSLILNAD-DPDNTKMLKA-LTVTPPEAIT--LSFDEVEGLINIMDLYRPKARLDITQWVMMTYQLNDLIDLLETGYLITEYILELDAQTKVVTFEGIITEAKCIPEHPEYDPSVVSSPKLFSFTLGDFDIIQQIAVTRLMAQKDPKFEPVAGTFDITYVFKDSTVTFETK---'), ('9', 'MTAVNYPFVDTMDKFDKITKGLIFEHQAEGESETMISHELSILDNDGVVHSLHFSQITSLIDTITGKHPSLELPPQLFLITQYLLEDLKEVGEKGFVITEYFIDVLPTGNKAIFRGTLAHKSTVDGHPDFDPSSTISKKEFEFSLNQFSILQQIALSHCIANLHEECAGFRGTFDVEYTFHWTPFAFNVKFSE'), ('Q8SDG0\\t175\\t0.315\\t9.556E-46\\t33\\t177\\t193\\t29\\t170\\t194', '---------------------------------TGLRPSLNITTNDGVTRNVTFDQLENFIKVIKATHDTQTVTPLQWCIYRYA----PNLVKARYIATSWKITVDHVKKTLNFQGTLNHEGTVVDHPNYDPDITARELMFDETITDFSRFEQIALSGNIANFKEEFKMMKYSFDFSY---------------'), ('SRR5437660_9774954\\t50\\t0.279\\t4.928E-03\\t129\\t170\\t193\\t10\\t50\\t136', '---------------------------------------------------------------------------------------------------------------------------------LDADVTLPPDYYERLLKKFEADARLGLAGGV--LHEESKGFK----------------------'), ('ERR1700720_1158865\\t50\\t0.250\\t4.928E-03\\t98\\t157\\t193\\t1\\t72\\t168', '--------------------------------------------------------------------------------------------------TEYFIEVRPERRDRHFGAKVVHCDNFDIIGNLDADITFGKDYFDFLLAKFSADAELGVAG-----------------------------------'), ('MGYP000548199260\\t41\\t0.250\\t4.592E+00\\t128\\t162\\t193\\t12\\t51\\t59', '--------------------------------------------------------------------------------------------------------------------------------DFDADITLPVDYYQQILNQFALDEKLVASGVYMDL------------------------------'), ('5915|Ga0209061_1164601_1|+2|11\\t40\\t0.222\\t6.164E+00\\t101\\t156\\t193\\t7\\t76\\t235', '-----------------------------------------------------------------------------------------------------WISVQPAGAAT--RGAFEHGSLLRTSPKLDADTSMAPDYFERLLAAFESDPQLASG------------------------------------'), ('SRR5579875_2826348\\t40\\t0.222\\t6.164E+00\\t101\\t156\\t193\\t11\\t80\\t242', '-----------------------------------------------------------------------------------------------------WISVQPAGAAT--RGAFEHGSLLRTSPKLDADTSMAPDYFERLLAAFESDPQLASG------------------------------------')]\n"
     ]
    }
   ],
   "source": [
    "for a3m_data in dataset:\n",
    "    msa_name=a3m_data['msa_name']\n",
    "    msa=a3m_data['msa']\n",
    "    print(msa_name)\n",
    "    print(msa)\n",
    "    break"
   ]
  },
  {
   "cell_type": "code",
   "execution_count": 111,
   "metadata": {},
   "outputs": [],
   "source": [
    "msadata_collator=DataCollatorForMSA(tokenizer,max_len=512)\n"
   ]
  },
  {
   "cell_type": "code",
   "execution_count": 115,
   "metadata": {},
   "outputs": [
    {
     "data": {
      "text/plain": [
       "torch.Size([1, 13, 194])"
      ]
     },
     "execution_count": 115,
     "metadata": {},
     "output_type": "execute_result"
    }
   ],
   "source": [
    "msadata_collator.msa_batch_convert(msa).size()"
   ]
  },
  {
   "cell_type": "code",
   "execution_count": null,
   "metadata": {},
   "outputs": [],
   "source": []
  }
 ],
 "metadata": {
  "kernelspec": {
   "display_name": "msat5",
   "language": "python",
   "name": "python3"
  },
  "language_info": {
   "codemirror_mode": {
    "name": "ipython",
    "version": 3
   },
   "file_extension": ".py",
   "mimetype": "text/x-python",
   "name": "python",
   "nbconvert_exporter": "python",
   "pygments_lexer": "ipython3",
   "version": "3.9.16"
  },
  "orig_nbformat": 4
 },
 "nbformat": 4,
 "nbformat_minor": 2
}
